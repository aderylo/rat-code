{
 "cells": [
  {
   "cell_type": "code",
   "execution_count": 7,
   "metadata": {},
   "outputs": [],
   "source": [
    "import requests\n",
    "from bs4 import BeautifulSoup\n",
    "import pandas as pd\n",
    "from io import StringIO\n",
    "\n",
    "\n",
    "def fetch_content_generic(url):\n",
    "    response = requests.get(url)\n",
    "    response.raise_for_status()\n",
    "\n",
    "    soup = BeautifulSoup(response.content, 'html.parser')\n",
    "\n",
    "    return soup"
   ]
  },
  {
   "cell_type": "code",
   "execution_count": 11,
   "metadata": {},
   "outputs": [
    {
     "data": {
      "text/plain": [
       "'\\n\\n\\n\\n\\n\\n\\n\\n\\n\\nOprocentowanie | ING Bank Śląski\\n\\n\\n\\n\\n\\n\\n\\n\\n\\n\\n\\n\\n\\n\\n\\n\\n\\n\\n\\n\\n\\n\\n\\n\\n\\n\\n\\n\\n Wybierz  segment \\n\\n\\n\\n  Klienci indywidualni  \\n  Premium  \\n  Private Banking  \\n  Przedsiębiorcy  \\n  Spółki  \\n  Korporacje  \\n\\n\\n\\n\\n\\n\\n\\n\\n  Klienci indywidualni  \\n  Premium  \\n  Private Banking  \\n  Przedsiębiorcy  \\n  Spółki  \\n  Korporacje  \\n\\n\\n\\n\\n\\n\\n\\n\\n Kontakt \\n\\n\\n Zaloguj \\n\\n\\n\\n\\n Klienci indywidualni i przedsiębiorcy \\n Moje ING \\nPobierz aplikację Moje ING\\n\\n\\n Spółki, samorządy i korporacje \\n ING Business \\n\\n Zaloguj (login i hasło) \\n Zaloguj (eToken/karta) \\n\\nPobierz aplikację ING Business\\n\\n\\n\\nZamknij okno dialogowe z logowaniem\\n\\n\\n\\n\\n\\n\\n\\n   \\n\\n\\n\\n\\n\\n Zamknij wyszukiwarkę \\nWyszukaj w portalu ING Bank Śląski\\n\\n Przejdź do strony z wynikami wyszukiwania \\n Wyczyść wyniki wyszukiwania \\n\\n\\n\\n\\n\\n Zaloguj \\n\\n  \\n\\n\\n\\n\\n\\n\\n Zamknij nawigację \\n\\n\\n Kontakt \\n Oddziały i bankomaty \\n Kursy walut \\n Społeczność ING \\n\\n\\n\\n\\n\\n\\n\\n\\n\\n\\n\\n\\n\\n\\n\\n\\n\\n\\n\\n\\n\\nStrona główna\\n\\nBiblioteka dokumentów\\n\\nOprocentowanie\\n\\n\\n\\n\\n\\n\\n\\nOprocentowanie\\n\\n\\n\\n\\n\\n\\n\\n\\n\\n\\n\\nRachunki bankowe przedsiębiorstw, JST oraz korporacji\\nOprocentowanie standardowe rachunków OKO\\nDepozyty korporacyjne w PLN (dot. m.in. lokat z prologatą)\\nKomunikat w sprawie odsetek podwyższonych\\n\\n\\n\\n\\nRachunki bankowe przedsiębiorstw, JST oraz korporacji\\n\\n\\n\\nx\\n\\n\\n\\nŚrodki zgromadzone na rachunkach bieżących w PLN, EUR oraz w pozostałych walutach (USD, GBP, CHF) są nieoprocentowane.\\n\\n\\n\\n\\n\\n\\nOprocentowanie standardowe rachunków OKO\\n\\n\\n\\nx\\n\\n\\n\\n\\n\\n\\nWaluta\\n\\xa0\\n\\xa0\\n\\n\\n\\n\\nPLN\\n1,5% poniżej 20\\xa0mln\\n0% od 20\\xa0mln\\n\\n\\nEUR\\n0,01% do 100\\xa0tys.\\n0% powyżej 100\\xa0tys.\\n\\n\\nUSD\\n0,01% do 100\\xa0tys.\\n0% powyżej 100\\xa0tys.\\n\\n\\n\\n\\n\\n\\n\\n\\n\\nDepozyty korporacyjne w PLN (dot. m.in. lokat z prologatą)\\n\\n\\n\\nx\\n\\n\\n\\nOd 29 grudnia 2020 roku nie oferujemy usługi zakładania nowych depozytów korporacyjnych. Dla obecnych depozytów korporacyjnych z automatyczną prolongatą, założonych przed 1 czerwca 2020 r, oprocentowanie w momencie prolongowania będzie zaktualizowane ze stawką 0% niezależnie od kwoty i tenoru depozytu.\\n\\n\\n\\n\\n\\n\\nKomunikat w sprawie odsetek podwyższonych\\n\\n\\n\\nx\\n\\n\\n\\nING Bank Śląski S.A. informuje, że zgodnie z obowiązującym Zarządzeniem Prezesa Zarządu Banku nr Korp/829/2015 z dnia 23 grudnia 2015 r,\\xa0 wprowadza się jako obowiązujące w ING Banku Śląskim S.A. wysokość odsetek podwyższonych od niespłaconego w terminie zadłużenia w PLN i walucie wymienialnej obowiązującej dla klientów z segmentu Klientów korporacyjnego i\\xa0 strategicznego \\xa0w wysokości dwukrotności wysokości odsetek ustawowych za opóźnienie (odsetki ustawowe za opóźnienie to odsetki w wysokości równej sumie stopy referencyjnej Narodowego Banku Polskiego i 5,5 punktów procentowych).\\nPowyższe oprocentowanie jest zmienne oraz ustalone w stosunku rocznym.\\nZmiana wysokości stopy referencyjnej Narodowego Banku Polskiego powoduje zmianę wysokości odsetek podwyższonych, od dnia obowiązywania nowej wysokości stopy referencyjnej, określonego w uchwale Rady Polityki Pieniężnej.\\n\\n\\n\\n\\n\\n\\n\\n\\n\\n\\n\\n\\n\\n\\n\\nZobacz także\\xa0\\n\\n\\n\\n\\n\\n\\n\\n\\n\\n\\nTabela opłat i prowizji\\n\\nTabela opłat i prowizji\\n\\nDla rezydentów i nierezydentów będących osobami prawnymi i jednostkami nie posiadającymi osobowości prawnej.\\n\\n\\n\\n\\n\\n\\nInne\\n\\nInne\\n\\nPozostałe dokumenty.\\n\\n\\n\\n\\n\\n\\n\\n\\n\\n\\n\\n\\n\\n\\nRegulaminy i wnioski\\n\\nRegulaminy i wnioski\\n\\nRegulacje produktowe dla firm, samorządów i korporacji.\\n\\n\\n\\n\\n\\n\\n\\n\\n\\n\\n\\n\\n\\n\\n\\n\\n\\n\\n\\n\\n\\n\\n\\n\\n Wróć na górę \\n\\n\\n\\nNawigacja dolna\\n\\nInformacje korporacyjne\\n\\n\\n\\n  O nas  \\n  Kariera  \\n  Biuro prasowe  \\n  Relacje inwestorskie  \\n  KYC, FATCA/CRS, MIFID, MDR  \\n\\n\\n\\n\\n\\nAktualności, notowania\\n\\n\\n\\n  Aktualności  \\n  Kursy walut  \\n  Kalendarz świąt dla walut  \\n  Tryb realizacji zleceń  \\n  WIBOR i WIRON - informacje  \\n\\n\\n\\n\\n\\nTabele i regulaminy\\n\\n\\n\\n  Tabela opłat i prowizji  \\n  Oprocentowanie  \\n  Regulaminy i wnioski  \\n\\n\\n\\n\\n\\nPomoc i kontakt\\n\\n\\n\\n  Skontaktuj się z nami  \\n  Zastrzeż kartę i dokumenty  \\n  Znajdź oddział, bankomat, wpłatomat lub wrzutnię  \\n\\n\\n\\nCentrum Wsparcia Biznesu\\n\\nKontakt telefoniczny\\n\\n\\nZostaw numer oddzwonimy\\n\\n\\n\\n\\n\\n\\n\\n\\n English info \\n Ochrona danych osobowych \\n Polityka plików cookies \\n\\n\\n\\n\\n\\n           ©\\xa0\\n           ING Bank Śląski S.A. Wszystkie prawa zastrzeżone. Jeśli korzystasz z naszego serwisu, akceptujesz nasz \\n          regulamin. \\n         \\n\\n\\n\\n\\n  Facebook  \\n  Twitter  \\n  Youtube  \\n  Instagram  \\n  Linkedin  \\n\\n\\n\\n\\n\\n\\n\\n\\n\\n\\n\\n\\n\\n\\nTo bank dzwoni do Ciebie? Upewnij się, że to nie oszustwo. Więcej\\n\\nWsparcie dla spółek, samorządów i korporacji\\n+48 32 357 00 24\\n+48 32 357 00\\xa024\\nInfolinia czynna w dni robocze od 8:00 do 18:00\\n\\xa0\\nWsparcie dla przedsiębiorców\\n(jednoosobowa działalność gospodarcza)\\n+48 32 357 00 96\\n+48 32 357 00 96\\nInfolinia czynna w dni robocze od 8:00 do 18:00\\n\\xa0Koszt połączenia według stawek operatora.\\n\\n\\n\\n\\n\\n\\n\\n\\n\\n\\n\\n\\n\\n\\n\\n\\n\\n\\n\\n\\n\\n\\n\\n\\n\\n\\n\\n\\n\\n\\n\\n\\n\\n\\n\\n\\n\\n\\n\\n\\n\\n\\n\\n\\n\\n\\n\\n\\n\\n\\n\\n\\n\\n\\n\\n\\n'"
      ]
     },
     "execution_count": 11,
     "metadata": {},
     "output_type": "execute_result"
    }
   ],
   "source": [
    "url = \"https://www.ing.pl/dokumenty-fis-i-korporacji/oprocentowanie#tab=2\"\n",
    "soup = fetch_content_generic(url)\n",
    "soup.text"
   ]
  },
  {
   "cell_type": "markdown",
   "metadata": {},
   "source": [
    "Copy the text and open up chat-gpt to do some formatting.\n",
    "Example prompt:\n",
    "https://chat.openai.com/share/2b25fe01-33ad-44ae-ad87-d4e6acdade01"
   ]
  },
  {
   "cell_type": "code",
   "execution_count": 9,
   "metadata": {},
   "outputs": [],
   "source": [
    "table = \"\"\"deposit_type;over;under;term;currency;interest\n",
    "KONTO Z LWEM w PLN;NA;NA;NA;PLN;FILL_IN\n",
    "KONTO Z LWEM w USD;NA;NA;NA;USD;FILL_IN\n",
    "KONTO Z LWEM w EUR;NA;NA;NA;EUR;FILL_IN\n",
    "KONTO Z LWEM w GBP;NA;NA;NA;GBP;FILL_IN\n",
    "Otwarte Konto Oszczędnościowe w PLN;NA;20000000;NA;PLN;FILL_IN\n",
    "Otwarte Konto Oszczędnościowe w PLN;20000000;NA;NA;PLN;FILL_IN\n",
    "Otwarte Konto Oszczędnościowe w EUR;NA;NA;NA;EUR;FILL_IN\n",
    "Otwarte Konto Oszczędnościowe w USD;NA;NA;NA;USD;FILL_IN\n",
    "Otwarte Konto Oszczędnościowe w GBP;NA;NA;NA;GBP;FILL_IN\n",
    "Lokata Terminowa w PLN;1000;NA;1;PLN;FILL_IN\n",
    "Lokata Terminowa w PLN;1000;NA;3;PLN;FILL_IN\n",
    "Lokata Terminowa w PLN;1000;NA;6;PLN;FILL_IN\n",
    "Lokata Terminowa w PLN;1000;NA;12;PLN;FILL_IN\n",
    "Lokata Terminowa Plus w PLN;1000;50000;6;PLN;FILL_IN\n",
    "Lokata Terminowa Plus w PLN;1000;100000;12;PLN;FILL_IN\n",
    "Lokata Terminowa w EUR;500;NA;6;EUR;FILL_IN\n",
    "Lokata Terminowa w EUR;500;NA;12;EUR;FILL_IN\n",
    "Lokata Terminowa w USD;500;NA;6;USD;FILL_IN\n",
    "Lokata Terminowa w USD;500;NA;12;USD;FILL_IN\n",
    "Lokata Terminowa Plus w PLN;50000;100000;6;PLN;FILL_IN\n",
    "Lokata Terminowa Plus w PLN;100000;NA;12;PLN;FILL_IN\n",
    "Lokata Terminowa Plus w EUR;500;25000;6;EUR;FILL_IN\n",
    "Lokata Terminowa Plus w EUR;25000;NA;12;EUR;FILL_IN\n",
    "Lokata Terminowa Plus w USD;500;50000;6;USD;FILL_IN\n",
    "Lokata Terminowa Plus w USD;50000;NA;12;USD;FILL_IN\"\"\"\n",
    "\n",
    "df = pd.read_csv(StringIO(table), sep=\";\")"
   ]
  },
  {
   "cell_type": "code",
   "execution_count": 10,
   "metadata": {},
   "outputs": [
    {
     "data": {
      "text/html": [
       "<div>\n",
       "<style scoped>\n",
       "    .dataframe tbody tr th:only-of-type {\n",
       "        vertical-align: middle;\n",
       "    }\n",
       "\n",
       "    .dataframe tbody tr th {\n",
       "        vertical-align: top;\n",
       "    }\n",
       "\n",
       "    .dataframe thead th {\n",
       "        text-align: right;\n",
       "    }\n",
       "</style>\n",
       "<table border=\"1\" class=\"dataframe\">\n",
       "  <thead>\n",
       "    <tr style=\"text-align: right;\">\n",
       "      <th></th>\n",
       "      <th>deposit_type</th>\n",
       "      <th>over</th>\n",
       "      <th>under</th>\n",
       "      <th>term</th>\n",
       "      <th>currency</th>\n",
       "      <th>interest</th>\n",
       "    </tr>\n",
       "  </thead>\n",
       "  <tbody>\n",
       "    <tr>\n",
       "      <th>0</th>\n",
       "      <td>KONTO Z LWEM w PLN</td>\n",
       "      <td>NaN</td>\n",
       "      <td>NaN</td>\n",
       "      <td>NaN</td>\n",
       "      <td>PLN</td>\n",
       "      <td>FILL_IN</td>\n",
       "    </tr>\n",
       "    <tr>\n",
       "      <th>1</th>\n",
       "      <td>KONTO Z LWEM w USD</td>\n",
       "      <td>NaN</td>\n",
       "      <td>NaN</td>\n",
       "      <td>NaN</td>\n",
       "      <td>USD</td>\n",
       "      <td>FILL_IN</td>\n",
       "    </tr>\n",
       "    <tr>\n",
       "      <th>2</th>\n",
       "      <td>KONTO Z LWEM w EUR</td>\n",
       "      <td>NaN</td>\n",
       "      <td>NaN</td>\n",
       "      <td>NaN</td>\n",
       "      <td>EUR</td>\n",
       "      <td>FILL_IN</td>\n",
       "    </tr>\n",
       "    <tr>\n",
       "      <th>3</th>\n",
       "      <td>KONTO Z LWEM w GBP</td>\n",
       "      <td>NaN</td>\n",
       "      <td>NaN</td>\n",
       "      <td>NaN</td>\n",
       "      <td>GBP</td>\n",
       "      <td>FILL_IN</td>\n",
       "    </tr>\n",
       "    <tr>\n",
       "      <th>4</th>\n",
       "      <td>Otwarte Konto Oszczędnościowe w PLN</td>\n",
       "      <td>NaN</td>\n",
       "      <td>20000000.0</td>\n",
       "      <td>NaN</td>\n",
       "      <td>PLN</td>\n",
       "      <td>FILL_IN</td>\n",
       "    </tr>\n",
       "  </tbody>\n",
       "</table>\n",
       "</div>"
      ],
      "text/plain": [
       "                          deposit_type  over       under  term currency  \\\n",
       "0                   KONTO Z LWEM w PLN   NaN         NaN   NaN      PLN   \n",
       "1                   KONTO Z LWEM w USD   NaN         NaN   NaN      USD   \n",
       "2                   KONTO Z LWEM w EUR   NaN         NaN   NaN      EUR   \n",
       "3                   KONTO Z LWEM w GBP   NaN         NaN   NaN      GBP   \n",
       "4  Otwarte Konto Oszczędnościowe w PLN   NaN  20000000.0   NaN      PLN   \n",
       "\n",
       "  interest  \n",
       "0  FILL_IN  \n",
       "1  FILL_IN  \n",
       "2  FILL_IN  \n",
       "3  FILL_IN  \n",
       "4  FILL_IN  "
      ]
     },
     "execution_count": 10,
     "metadata": {},
     "output_type": "execute_result"
    }
   ],
   "source": [
    "df.head()"
   ]
  }
 ],
 "metadata": {
  "kernelspec": {
   "display_name": ".venv",
   "language": "python",
   "name": "python3"
  },
  "language_info": {
   "codemirror_mode": {
    "name": "ipython",
    "version": 3
   },
   "file_extension": ".py",
   "mimetype": "text/x-python",
   "name": "python",
   "nbconvert_exporter": "python",
   "pygments_lexer": "ipython3",
   "version": "3.11.6"
  }
 },
 "nbformat": 4,
 "nbformat_minor": 2
}
